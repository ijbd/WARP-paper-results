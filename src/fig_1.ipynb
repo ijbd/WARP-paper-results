{
 "metadata": {
  "language_info": {
   "codemirror_mode": {
    "name": "ipython",
    "version": 3
   },
   "file_extension": ".py",
   "mimetype": "text/x-python",
   "name": "python",
   "nbconvert_exporter": "python",
   "pygments_lexer": "ipython3",
   "version": "3.7.3-final"
  },
  "orig_nbformat": 2,
  "kernelspec": {
   "name": "python3",
   "display_name": "Python 3"
  }
 },
 "nbformat": 4,
 "nbformat_minor": 2,
 "cells": [
  {
   "cell_type": "code",
   "execution_count": 2,
   "metadata": {},
   "outputs": [],
   "source": [
    "import numpy as np\n",
    "import pandas as pd\n",
    "import seaborn as sns\n",
    "import matplotlib.pyplot as plt\n",
    "import shapefile as shp "
   ]
  },
  {
   "cell_type": "code",
   "execution_count": 3,
   "metadata": {},
   "outputs": [],
   "source": [
    "map_results_folder = 'map_results' # CHANGE TO 'map_results_onshore' for onshore results"
   ]
  },
  {
   "source": [
    "## Instructions for `get_elcc_map` function\n",
    "----------------\n",
    "Every elcc map can be found and opened directly in the `map_results` folder. Those in `map_results_onshore` have the offshore locations replaced with `nan` values.\n",
    "\n",
    "Parameters are as follows:\n",
    "- `region` (str): lower case region {'basin', 'california', 'mountains', 'northwest', 'southwest'}\n",
    "- `year` (int): {2016, 2017, 2018, 2019}\n",
    "- `capacity` (int): nameplate generator capacity in MW (our base case is 500 MW) {100, 500, 2000}\n",
    "- `technology` (string): {'wind', 'solar'}\n",
    "- `add_on` (string): LEAVE as None for base cases {'FF' (fixed FOR), 'storage' (250 MW storage)}"
   ],
   "cell_type": "markdown",
   "metadata": {}
  },
  {
   "cell_type": "code",
   "execution_count": 4,
   "metadata": {},
   "outputs": [],
   "source": [
    "def get_elcc_map(region,year,capacity,technology,add_on=None):\n",
    "    elcc_map_file = '%s/%s_%d_%d_MW_%s%s_results_map.csv' % (map_results_folder,region,year,capacity,technology,'' if add_on is None else '_'+add_on)\n",
    "    elcc_df = pd.read_csv(elcc_map_file,index_col=0,header=0)\n",
    "    elcc = elcc_df.to_numpy()\n",
    "    lats = np.asarray(elcc_df.index.values)\n",
    "    lons = np.asarray(elcc_df.columns.values).astype(float)\n",
    "    return elcc, lats, lons "
   ]
  },
  {
   "cell_type": "code",
   "execution_count": 66,
   "metadata": {},
   "outputs": [],
   "source": [
    "def plot_map(ax, elcc, lats, lons):\n",
    "    # kwargs:\n",
    "    #   outline (bool)\n",
    "\n",
    "    sns.set_theme(style=\"whitegrid\")\n",
    "\n",
    "    sf = shp.Reader(\"state_lines/cb_2018_us_state_500k/cb_2018_us_state_500k.shp\")\n",
    "\n",
    "    outline_color='white'\n",
    "    outline_width=1\n",
    "    \n",
    "    for shape in sf.shapeRecords():\n",
    "        npoints=len(shape.shape.points) # total points\n",
    "        nparts = len(shape.shape.parts) # total parts\n",
    "\n",
    "        if nparts == 1:\n",
    "            x = [i[0] for i in shape.shape.points[:]] #- np.min(lons)\n",
    "            y = [i[1] for i in shape.shape.points[:]] #- np.min(lats)\n",
    "            ax.plot(x,y,color=outline_color,linewidth=outline_width)\n",
    "        else:\n",
    "            for regionPart in range(0,nparts):\n",
    "                if regionPart < (nparts-1):\n",
    "                    endIndex = shape.shape.parts[regionPart+1]\n",
    "                else:\n",
    "                    endIndex = npoints\n",
    "                x = [i[0] for i in shape.shape.points[shape.shape.parts[regionPart]:endIndex]] #- np.min(lons)\n",
    "                y = [i[1] for i in shape.shape.points[shape.shape.parts[regionPart]:endIndex]] #- np.min(lats)\n",
    "                ax.plot(x,y,color=outline_color,linewidth=outline_width)\n",
    "\n",
    "    #contour plot\n",
    "    im = ax.contourf(elcc,vmax=100,vmin=0,cmap='plasma', extent = [np.min(lons),np.max(lons),np.min(lats),np.max(lats)])\n",
    "    ax.contour(elcc,vmax=100,vmin=0,colors='b', linewidths=.5, extent = [np.min(lons),np.max(lons),np.min(lats),np.max(lats)])\n",
    "    \n",
    "\n",
    "    ax.set_xlim(np.min(lons),np.max(lons))\n",
    "    ax.set_ylim(np.min(lats),np.max(lats))\n",
    "    \n",
    "    # colorbar\n",
    "    \n",
    "    cbar = ax.figure.colorbar(im, ax=ax)\n",
    "    cbar.outline.set_visible(False)\n",
    "\n",
    "    cbar.ax.tick_params(labelsize=8)\n",
    "    cbar.ax.tick_params(axis='y',length=2,width=1)\n",
    "\n",
    "    # axis \n",
    "    ax.tick_params(axis='both', which='both', bottom=False, top=False, left=False, labelbottom=False, labelleft=False)\n",
    "    ax.spines[\"top\"].set_visible(False)\n",
    "    ax.spines[\"bottom\"].set_visible(False)\n",
    "    ax.spines[\"left\"].set_visible(False)\n",
    "    ax.spines[\"right\"].set_visible(False)\n",
    "\n",
    "\n",
    "    return ax"
   ]
  },
  {
   "cell_type": "code",
   "execution_count": 67,
   "metadata": {},
   "outputs": [],
   "source": [
    "\n",
    "    fig, axs = plt.subplots(5,2,dpi=240, figsize=(7,10),constrained_layout=True)\n",
    "\n",
    "    capacity = 500\n",
    "\n",
    "    i = 0\n",
    "    \n",
    "    for region in ['basin','california','mountains','northwest','southwest']:\n",
    "        for year in [2019]:\n",
    "            for technology in ['solar','wind']:\n",
    "                ax = axs[i//2,i%2]\n",
    "                elcc, lats, lons = get_elcc_map(region,year,capacity,technology)\n",
    "\n",
    "                ax = plot_map(ax,elcc,lats,lons)\n",
    "                title = '%s %s' % (region.capitalize(),technology.capitalize())\n",
    "                ax.set_title(title)\n",
    "\n",
    "                i +=1\n",
    "    \n",
    "\n",
    "    img_name = '../images/figure_1_CV_maps'\n",
    "    plt.savefig(img_name)  \n",
    "    plt.close()           \n"
   ]
  },
  {
   "cell_type": "code",
   "execution_count": null,
   "metadata": {},
   "outputs": [],
   "source": []
  }
 ]
}