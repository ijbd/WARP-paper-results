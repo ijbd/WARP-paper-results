{
 "metadata": {
  "language_info": {
   "codemirror_mode": {
    "name": "ipython",
    "version": 3
   },
   "file_extension": ".py",
   "mimetype": "text/x-python",
   "name": "python",
   "nbconvert_exporter": "python",
   "pygments_lexer": "ipython3",
   "version": "3.7.3-final"
  },
  "orig_nbformat": 2,
  "kernelspec": {
   "name": "python3",
   "display_name": "Python 3"
  }
 },
 "nbformat": 4,
 "nbformat_minor": 2,
 "cells": [
  {
   "cell_type": "code",
   "execution_count": 2,
   "metadata": {},
   "outputs": [],
   "source": [
    "import numpy as np\n",
    "import pandas as pd\n",
    "import seaborn as sns\n",
    "import matplotlib.pyplot as plt\n",
    "import shapefile as shp "
   ]
  },
  {
   "cell_type": "code",
   "execution_count": 3,
   "metadata": {},
   "outputs": [],
   "source": [
    "map_results_folder = '../map_results_onshore' "
   ]
  },
  {
   "cell_type": "code",
   "execution_count": 4,
   "metadata": {},
   "outputs": [],
   "source": [
    "def get_elcc_list(region,year,capacity,technology,add_on=None,scale_down=False):\n",
    "    elcc_map_file = '%s/%s_%d_%d_MW_%s%s_results_map.csv' % (map_results_folder,region,year,capacity,technology,'' if add_on is None else '_'+add_on)\n",
    "    elcc = pd.read_csv(elcc_map_file,index_col=0,header=0).values\n",
    "    elcc = elcc[1::2,1::2] if scale_down else elcc\n",
    "    elcc = elcc.flatten()\n",
    "    elcc = elcc[np.logical_not(np.isnan(elcc))]\n",
    "    return elcc"
   ]
  },
  {
   "cell_type": "code",
   "execution_count": 5,
   "metadata": {},
   "outputs": [],
   "source": [
    "def plot_box(ax, region, year, elcc):\n",
    "\n",
    "    sns.set_theme(style=\"whitegrid\")\n",
    "\n",
    "    sns.boxplot(x=region, y=elcc, hue=year,ax=ax)\n",
    "    ax.grid(False)\n",
    "    ax.set_ylim(top=np.max(elcc)+5)\n",
    "    return ax"
   ]
  },
  {
   "cell_type": "code",
   "execution_count": 6,
   "metadata": {},
   "outputs": [],
   "source": [
    "\n",
    "fig, axs = plt.subplots(2,1,dpi=240, figsize=(7,8),constrained_layout=True)\n",
    "\n",
    "for technology in ['solar','wind']:\n",
    "    ax = axs[0 if technology=='solar' else 1]\n",
    "\n",
    "    region_arr = np.array([])\n",
    "    elcc = np.array([])\n",
    "    year = np.array([])\n",
    "\n",
    "    for region in ['basin','california','mountains','northwest','southwest']:\n",
    "        \n",
    "            elcc_2016 = get_elcc_list(region,2016,500,technology)\n",
    "            elcc_2017 = get_elcc_list(region,2017,500,technology)\n",
    "            elcc_2018 = get_elcc_list(region,2018,500,technology)\n",
    "            elcc_2019 = get_elcc_list(region,2019,500,technology)\n",
    "            \n",
    "            year = np.append(year,['2016' for i in range(len(elcc_2016))]).flatten()\n",
    "            year = np.append(year,['2017' for i in range(len(elcc_2017))]).flatten()\n",
    "            year = np.append(year,['2018' for i in range(len(elcc_2018))]).flatten()\n",
    "            year = np.append(year,['2019' for i in range(len(elcc_2019))]).flatten()\n",
    "\n",
    "            elcc = np.append(elcc, np.array([elcc_2016,elcc_2017,elcc_2018,elcc_2019]).flatten())\n",
    "            region_arr = np.append(region_arr, np.array([region.capitalize() for i in range(len(elcc_2016)*4)]))\n",
    "\n",
    "    ax = plot_box(ax,region_arr, year, elcc)\n",
    "\n",
    "    title = '%s Generators' % (technology.capitalize())\n",
    "    ax.set_title(title)\n",
    "    ax.set_ylabel('ELCC (%)')\n",
    "\n",
    "img_name = '../gallery/SI_IAV'\n",
    "plt.savefig(img_name)  \n",
    "plt.close()"
   ]
  },
  {
   "cell_type": "code",
   "execution_count": null,
   "metadata": {},
   "outputs": [],
   "source": []
  }
 ]
}