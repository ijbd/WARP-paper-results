{
 "metadata": {
  "language_info": {
   "codemirror_mode": {
    "name": "ipython",
    "version": 3
   },
   "file_extension": ".py",
   "mimetype": "text/x-python",
   "name": "python",
   "nbconvert_exporter": "python",
   "pygments_lexer": "ipython3",
   "version": "3.7.3-final"
  },
  "orig_nbformat": 2,
  "kernelspec": {
   "name": "python3",
   "display_name": "Python 3"
  }
 },
 "nbformat": 4,
 "nbformat_minor": 2,
 "cells": [
  {
   "cell_type": "code",
   "execution_count": 16,
   "metadata": {},
   "outputs": [],
   "source": [
    "import numpy as np\n",
    "import pandas as pd\n",
    "import seaborn as sns\n",
    "import matplotlib.pyplot as plt\n",
    "import shapefile as shp \n",
    "import matplotlib as mpl"
   ]
  },
  {
   "cell_type": "code",
   "execution_count": 8,
   "metadata": {},
   "outputs": [],
   "source": [
    "map_results_folder = '../map_results_onshore' "
   ]
  },
  {
   "cell_type": "code",
   "execution_count": 6,
   "metadata": {},
   "outputs": [],
   "source": [
    "def get_elcc_list(region,year,capacity,technology,add_on=None,scale_down=False):\n",
    "    elcc_map_file = '%s/%s_%d_%d_MW_%s%s_results_map.csv' % (map_results_folder,region,year,capacity,technology,'' if add_on is None else '_'+add_on)\n",
    "    elcc = pd.read_csv(elcc_map_file,index_col=0,header=0).values\n",
    "    elcc = elcc[1::2,1::2] if scale_down else elcc\n",
    "    elcc = elcc.flatten()\n",
    "    elcc = elcc[np.logical_not(np.isnan(elcc))]\n",
    "    return elcc"
   ]
  },
  {
   "cell_type": "code",
   "execution_count": 84,
   "metadata": {},
   "outputs": [],
   "source": [
    "def get_scatter_size(x,y):\n",
    "\n",
    "    if len(x) != len(y):\n",
    "        raise RuntimeError('Arrays must be of same length.')\n",
    "\n",
    "    uniq_x = np.unique(x)\n",
    "    uniq_y = np.unique(y)\n",
    "\n",
    "    weights = np.zeros((len(uniq_x),len(uniq_y)))\n",
    "\n",
    "    # fill grid\n",
    "    for i in range(len(x)):\n",
    "        x_i = x[i]\n",
    "        y_i = y[i]\n",
    "        weights[x_i == uniq_x, y_i==uniq_y] += 1\n",
    "\n",
    "    s = []\n",
    "    \n",
    "    #count\n",
    "    for i in range(len(x)):\n",
    "        s.append(max(float(weights[x[i] == uniq_x, y[i] == uniq_y]),3))\n",
    "    \n",
    "    return np.asarray(s)"
   ]
  },
  {
   "cell_type": "code",
   "execution_count": 86,
   "metadata": {},
   "outputs": [],
   "source": [
    "def plot_diff_scatter(ax, elcc, elcc_w_storage, label_cbar=False, label_xaxis=False, label_yaxis=False):\n",
    "\n",
    "    sns.set_theme(style=\"whitegrid\")\n",
    "\n",
    "    elcc_diff = elcc_w_storage - elcc\n",
    "\n",
    "    s = get_scatter_size(elcc,elcc_diff)\n",
    "\n",
    "    cmap = plt.get_cmap('plasma',50)\n",
    "\n",
    "    n_min = int(np.min(elcc_w_storage)/10)*10\n",
    "    n_max = np.max(elcc_w_storage)+10\n",
    "    norm = mpl.colors.Normalize(vmin=n_min,vmax=n_max)\n",
    "\n",
    "    ax.scatter(elcc, elcc_diff,s=s*2,c=elcc_w_storage,cmap=cmap,norm=norm,Linewidth=.5,edgecolors='#000000')\n",
    "    ax.tick_params(axis='both',labelsize=15)\n",
    "    ax.grid(False)\n",
    "\n",
    "    # add colorbar    \n",
    "    sm = plt.cm.ScalarMappable(cmap=cmap, norm=norm)\n",
    "    sm.set_array([])\n",
    "    cbar = plt.colorbar(sm, ticks=np.arange(n_min,n_max,10), boundaries=np.arange(n_min,n_max,2),ax=ax)\n",
    "    cbar.ax.tick_params(labelsize=8)\n",
    "    cbar.ax.tick_params(axis='y',length=2,width=1)\n",
    "    cbar.outline.set_visible(False)\n",
    "\n",
    "    # labels\n",
    "    if label_xaxis: ax.set_xlabel('ELCC without Storage',fontsize=8)\n",
    "    if label_yaxis: ax.set_ylabel('$\\Delta$ ELCC',fontsize=8)\n",
    "    if label_cbar: cbar.ax.set_ylabel('ELCC w/ Storage',fontsize=8)\n",
    "\n",
    "    #label sizes\n",
    "    ax.tick_params(axis='both',labelsize=8)\n",
    "\n",
    "   \n",
    "    return ax\n",
    "    "
   ]
  },
  {
   "cell_type": "code",
   "execution_count": 87,
   "metadata": {},
   "outputs": [],
   "source": [
    "\n",
    "fig, axs = plt.subplots(5,2,dpi=240, figsize=(7,10),constrained_layout=True)\n",
    "\n",
    "year = 2019\n",
    "\n",
    "i = 0\n",
    "\n",
    "for region in ['basin','california','mountains','northwest','southwest']:\n",
    "    for technology in ['solar','wind']:\n",
    "        ax = axs[i//2,i%2]\n",
    "\n",
    "        elcc = get_elcc_list(region,year,500,technology,scale_down=True)\n",
    "        elcc_w_storage = get_elcc_list(region,year,500,technology,add_on='storage')\n",
    "        \n",
    "        ax = plot_diff_scatter(ax, elcc, elcc_w_storage,\n",
    "                                 label_cbar=True if i%2==1 else False, \n",
    "                                 label_xaxis=True if i//2==4 else False,\n",
    "                                 label_yaxis=True if i%2==0 else False)\n",
    "\n",
    "        title = '%s %s' % (region.capitalize(),technology.capitalize())\n",
    "        ax.set_title(title)\n",
    "\n",
    "        i +=1\n",
    "\n",
    "img_name = '../gallery/figure_4_storage_%d' % year\n",
    "plt.savefig(img_name)  \n",
    "plt.close()           \n"
   ]
  }
 ]
}