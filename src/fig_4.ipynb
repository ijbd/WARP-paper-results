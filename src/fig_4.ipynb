{
 "metadata": {
  "language_info": {
   "codemirror_mode": {
    "name": "ipython",
    "version": 3
   },
   "file_extension": ".py",
   "mimetype": "text/x-python",
   "name": "python",
   "nbconvert_exporter": "python",
   "pygments_lexer": "ipython3",
   "version": "3.7.3-final"
  },
  "orig_nbformat": 2,
  "kernelspec": {
   "name": "python3",
   "display_name": "Python 3"
  }
 },
 "nbformat": 4,
 "nbformat_minor": 2,
 "cells": [
  {
   "cell_type": "code",
   "execution_count": 1,
   "metadata": {},
   "outputs": [],
   "source": [
    "import numpy as np\n",
    "import pandas as pd\n",
    "import seaborn as sns\n",
    "import matplotlib.pyplot as plt\n",
    "import shapefile as shp "
   ]
  },
  {
   "cell_type": "code",
   "execution_count": 7,
   "metadata": {},
   "outputs": [],
   "source": [
    "map_results_folder = '../map_results_onshore_2019' "
   ]
  },
  {
   "cell_type": "code",
   "execution_count": 9,
   "metadata": {},
   "outputs": [],
   "source": [
    "def get_elcc_list(region,year,capacity,technology,add_on=None):\n",
    "    elcc_map_file = '%s/%s_%d_%d_MW_%s%s_results_map.csv' % (map_results_folder,region,year,capacity,technology,'' if add_on is None else '_'+add_on)\n",
    "    elcc_df = pd.read_csv(elcc_map_file,index_col=0,header=0)\n",
    "    elcc = (elcc_df.values).flatten()\n",
    "    elcc = elcc[np.logical_not(np.isnan(elcc))]\n",
    "    return elcc"
   ]
  },
  {
   "cell_type": "code",
   "execution_count": 39,
   "metadata": {},
   "outputs": [],
   "source": [
    "def plot_line(ax, elcc_1, elcc_2, elcc_3):\n",
    "\n",
    "    sns.set_theme(style=\"whitegrid\")\n",
    "\n",
    "    for i in range(len(elcc_1)):\n",
    "        ax.plot([1,2,3],[elcc_1[i],elcc_2[i],elcc_3[i]],c='r',lw=.5)\n",
    "\n",
    "    ax.set_xticks([1,2,3])\n",
    "\n",
    "    ax.grid(False)\n",
    "    ax.set_ylim(bottom=0)\n",
    "    ax.spines[\"top\"].set_visible(False)\n",
    "    ax.spines[\"right\"].set_visible(False)\n",
    "    \n",
    "\n",
    "    return ax"
   ]
  },
  {
   "cell_type": "code",
   "execution_count": 40,
   "metadata": {},
   "outputs": [],
   "source": [
    "\n",
    "fig, axs = plt.subplots(5,2,dpi=240, figsize=(7,10),constrained_layout=True)\n",
    "\n",
    "year = 2019\n",
    "\n",
    "i = 0\n",
    "\n",
    "for region in ['basin','california','mountains','northwest','southwest']:\n",
    "    for technology in ['solar','wind']:\n",
    "        ax = axs[i//2,i%2]\n",
    "\n",
    "        elcc_100 = get_elcc_list(region,year,100,technology)\n",
    "        elcc_500 = get_elcc_list(region,year,500,technology)\n",
    "        elcc_2000 = get_elcc_list(region,year,2000,technology)\n",
    "        \n",
    "        ax = plot_line(ax,elcc_100,elcc_500,elcc_2000)\n",
    "        ax.set_xticklabels(['100 MW','500 MW','2000 MW'])\n",
    "\n",
    "        title = '%s %s' % (region.capitalize(),technology.capitalize())\n",
    "        ax.set_title(title)\n",
    "\n",
    "        i +=1\n",
    "\n",
    "\n",
    "img_name = '../gallery/figure_4_generator_size_%d' % year\n",
    "plt.savefig(img_name)  \n",
    "plt.close()           \n"
   ]
  },
  {
   "cell_type": "code",
   "execution_count": 60,
   "metadata": {},
   "outputs": [],
   "source": [
    "def plot_box(ax, region, generator_size, elcc):\n",
    "\n",
    "    sns.set_theme(style=\"whitegrid\")\n",
    "\n",
    "    sns.boxplot(x=region, y=elcc, hue=generator_size,ax=ax)\n",
    "    ax.grid(False)\n",
    "    \n",
    "    return ax"
   ]
  },
  {
   "cell_type": "code",
   "execution_count": 61,
   "metadata": {},
   "outputs": [],
   "source": [
    "\n",
    "fig, axs = plt.subplots(2,1,dpi=240, figsize=(7,8),constrained_layout=True)\n",
    "\n",
    "year = 2019\n",
    "for technology in ['solar','wind']:\n",
    "    ax = axs[0 if technology=='solar' else 1]\n",
    "\n",
    "    region_arr = np.array([])\n",
    "    elcc = np.array([])\n",
    "    generator_size = np.array([])\n",
    "\n",
    "    for region in ['basin','california','mountains','northwest','southwest']:\n",
    "        \n",
    "            elcc_100 = get_elcc_list(region,year,100,technology)\n",
    "            elcc_500 = get_elcc_list(region,year,500,technology)\n",
    "            elcc_2000 = get_elcc_list(region,year,2000,technology)\n",
    "            \n",
    "            generator_size = np.append(generator_size,np.array([np.ones(len(elcc_100))*100,np.ones(len(elcc_500))*500,np.ones(len(elcc_2000))*2000]).flatten())\n",
    "            elcc = np.append(elcc, np.array([elcc_100,elcc_500,elcc_2000]).flatten())\n",
    "            region_arr = np.append(region_arr, np.array([region.capitalize() for i in range(len(elcc_100)*3)]))\n",
    "\n",
    "    ax = plot_box(ax,region_arr, generator_size, elcc)\n",
    "\n",
    "    title = '%s' % (technology.capitalize())\n",
    "    ax.set_title(title)      \n",
    "\n",
    "img_name = '../gallery/figure_4_generator_size_box_%d' % year\n",
    "plt.savefig(img_name)  \n",
    "plt.close()"
   ]
  }
 ]
}